{
  "cells": [
    {
      "cell_type": "code",
      "source": [
        "#การเชื่อม google drive ซึ่งหากไม่ได้รันบน Google Colab ไม่ต้องรัน cell นี้\n",
        "from google.colab import drive\n",
        "drive.mount('/content/drive')"
      ],
      "metadata": {
        "id": "vagIejYdvCrt",
        "colab": {
          "base_uri": "https://localhost:8080/"
        },
        "outputId": "e88ac453-0839-4621-8f06-1832b3d4a7c9"
      },
      "execution_count": 1,
      "outputs": [
        {
          "output_type": "stream",
          "name": "stdout",
          "text": [
            "Drive already mounted at /content/drive; to attempt to forcibly remount, call drive.mount(\"/content/drive\", force_remount=True).\n"
          ]
        }
      ]
    },
    {
      "cell_type": "markdown",
      "metadata": {
        "id": "VSn1ccAWtkkU"
      },
      "source": [
        "# COVID-19 Classification model"
      ]
    },
    {
      "cell_type": "markdown",
      "metadata": {
        "id": "WpMTbTR_tkkZ"
      },
      "source": [
        "## กำหนด pathและโมเดลที่จะใช้ใน cell ด้านล่างนี้"
      ]
    },
    {
      "cell_type": "code",
      "execution_count": 2,
      "metadata": {
        "id": "5BPRbgW4nn3e"
      },
      "outputs": [],
      "source": [
        "#กำหนดpathของโฟลเดอร์ที่เก็บข้อมูลภาพที่ต้องการทำนาย\n",
        "data_path = '/content/drive/MyDrive/COVID-19_Classification/sampleData'\n",
        "#กำหนดโมเดลที่ต้องการใช้ [CNN หรือ ResNet50]\n",
        "model_type = 'CNN'\n",
        "#กำหนดpathของไฟล์weightของโมเดลที่จะใช้\n",
        "model_path = '/content/drive/MyDrive/COVID-19_Classification/CNN_Model_noAugment.hdf5'"
      ]
    },
    {
      "cell_type": "code",
      "execution_count": 3,
      "metadata": {
        "id": "PTzIgz1xsC6s"
      },
      "outputs": [],
      "source": [
        "from contextlib import AsyncExitStack\n",
        "import os\n",
        "import numpy as np\n",
        "import cv2\n",
        "from tensorflow.keras.applications import ResNet50\n",
        "from tensorflow.keras.layers import Input\n",
        "from keras.layers import Dense, GlobalAveragePooling2D\n",
        "from keras.layers import Dropout, Conv2D, BatchNormalization\n",
        "from keras.layers import MaxPooling2D, Flatten\n",
        "from keras.models import Model\n",
        "from keras.models import Sequential\n",
        "\n",
        "def build_resnet50():\n",
        "    resnet50 = ResNet50(weights='imagenet', include_top=False)\n",
        "    for each_layer in resnet50.layers:\n",
        "        each_layer.trainable=False\n",
        "    input = Input(shape=(64, 64, 3))\n",
        "    x = Conv2D(3, (3, 3), padding='same')(input)\n",
        "    x = resnet50(x)\n",
        "    x = GlobalAveragePooling2D()(x)\n",
        "    x = BatchNormalization()(x)\n",
        "    x = Dropout(0.5)(x)\n",
        "    x = Dense(256, activation='relu')(x)\n",
        "    x = BatchNormalization()(x)\n",
        "    x = Dropout(0.5)(x)\n",
        "    output = Dense(1,activation = 'sigmoid', name='root')(x)\n",
        "    model = Model(input,output)\n",
        "    model.compile(loss='binary_crossentropy', optimizer='adam', metrics=['accuracy']) \n",
        "    model.summary()\n",
        "    return model\n",
        "\n",
        "def build_CNN():\n",
        "    model = Sequential()\n",
        "    model.add(Conv2D(32, (3, 3),padding='same', input_shape = (64, 64, 3), activation = 'relu'))\n",
        "    model.add(MaxPooling2D(pool_size = (2, 2)))\n",
        "    model.add(Conv2D(64, (3, 3), activation = 'relu'))\n",
        "    model.add(MaxPooling2D(pool_size = (2, 2)))\n",
        "    model.add(Conv2D(128, (3, 3), activation = 'relu'))\n",
        "    model.add(MaxPooling2D(pool_size = (2, 2)))\n",
        "    model.add(Dropout(0.25))\n",
        "    model.add(Conv2D(128, (3, 3), activation = 'relu'))\n",
        "    model.add(MaxPooling2D(pool_size = (2, 2)))\n",
        "    model.add(Flatten())\n",
        "    model.add(Dense(units = 64, activation = 'relu'))\n",
        "    model.add(Dense(units = 1, activation = 'sigmoid'))\n",
        "    model.compile(optimizer = 'adam', loss = 'binary_crossentropy', metrics = ['accuracy'])\n",
        "    model.summary()\n",
        "    return model\n",
        "\n",
        "\n",
        "def build_model(model_type):\n",
        "    files = os.listdir(data_path)\n",
        "    dataset = np.zeros((len(files),64,64, 3))\n",
        "    for i,file in enumerate(files):\n",
        "        image = cv2.imread(os.path.join(data_path, file))\n",
        "        if image is not None:\n",
        "            dataset[i] = image\n",
        "    X_images = dataset / 255.\n",
        "    md = model_type.lower()\n",
        "    if md == 'cnn':\n",
        "        model = build_CNN()\n",
        "        model.load_weights(model_path)\n",
        "        predict = model.predict(X_images)\n",
        "        y_predict = []\n",
        "        for i in predict:\n",
        "            if i >= 0.5:\n",
        "                y_predict.append('COVID')\n",
        "            else:\n",
        "                y_predict.append('Normal')\n",
        "        ans = list(zip(files,y_predict))\n",
        "        return ans\n",
        "    elif md == 'resnet50':\n",
        "        model = build_resnet50()\n",
        "        model.load_weights(model_path)\n",
        "        predict = model.predict(X_images)\n",
        "        y_predict = []\n",
        "        for i in predict:\n",
        "            if i >= 0.5:\n",
        "                y_predict.append('COVID')\n",
        "            else:\n",
        "                y_predict.append('Normal')\n",
        "        ans = list(zip(files,y_predict))\n",
        "        return ans\n",
        "    else:\n",
        "        print('Please fill model_type value in first cell. [CNN or ResNet50]')\n"
      ]
    },
    {
      "cell_type": "code",
      "execution_count": 4,
      "metadata": {
        "id": "Do7LVhfbtkkc",
        "outputId": "87c84be7-4e0e-4a58-ae47-8d71c860b275",
        "colab": {
          "base_uri": "https://localhost:8080/"
        }
      },
      "outputs": [
        {
          "output_type": "stream",
          "name": "stdout",
          "text": [
            "Model: \"sequential\"\n",
            "_________________________________________________________________\n",
            " Layer (type)                Output Shape              Param #   \n",
            "=================================================================\n",
            " conv2d (Conv2D)             (None, 64, 64, 32)        896       \n",
            "                                                                 \n",
            " max_pooling2d (MaxPooling2D  (None, 32, 32, 32)       0         \n",
            " )                                                               \n",
            "                                                                 \n",
            " conv2d_1 (Conv2D)           (None, 30, 30, 64)        18496     \n",
            "                                                                 \n",
            " max_pooling2d_1 (MaxPooling  (None, 15, 15, 64)       0         \n",
            " 2D)                                                             \n",
            "                                                                 \n",
            " conv2d_2 (Conv2D)           (None, 13, 13, 128)       73856     \n",
            "                                                                 \n",
            " max_pooling2d_2 (MaxPooling  (None, 6, 6, 128)        0         \n",
            " 2D)                                                             \n",
            "                                                                 \n",
            " dropout (Dropout)           (None, 6, 6, 128)         0         \n",
            "                                                                 \n",
            " conv2d_3 (Conv2D)           (None, 4, 4, 128)         147584    \n",
            "                                                                 \n",
            " max_pooling2d_3 (MaxPooling  (None, 2, 2, 128)        0         \n",
            " 2D)                                                             \n",
            "                                                                 \n",
            " flatten (Flatten)           (None, 512)               0         \n",
            "                                                                 \n",
            " dense (Dense)               (None, 64)                32832     \n",
            "                                                                 \n",
            " dense_1 (Dense)             (None, 1)                 65        \n",
            "                                                                 \n",
            "=================================================================\n",
            "Total params: 273,729\n",
            "Trainable params: 273,729\n",
            "Non-trainable params: 0\n",
            "_________________________________________________________________\n",
            "2/2 [==============================] - 3s 382ms/step\n"
          ]
        }
      ],
      "source": [
        "predict = build_model(model_type)"
      ]
    },
    {
      "cell_type": "markdown",
      "metadata": {
        "id": "dqUnbxlDtkke"
      },
      "source": [
        "## ผลการจำแนก"
      ]
    },
    {
      "cell_type": "code",
      "execution_count": 5,
      "metadata": {
        "id": "40I5FQC7tkke",
        "outputId": "7297b356-7548-44d9-d150-37263cbda9e0",
        "colab": {
          "base_uri": "https://localhost:8080/"
        }
      },
      "outputs": [
        {
          "output_type": "execute_result",
          "data": {
            "text/plain": [
              "[('testNormal1.png', 'Normal'),\n",
              " ('testNormal2.png', 'Normal'),\n",
              " ('testNormal6.png', 'Normal'),\n",
              " ('testNormal7.png', 'Normal'),\n",
              " ('testNormal8.png', 'Normal'),\n",
              " ('testNormal3.png', 'Normal'),\n",
              " ('testNormal5.png', 'Normal'),\n",
              " ('testNormal4.png', 'Normal'),\n",
              " ('testNormal9.png', 'Normal'),\n",
              " ('testNormal10.png', 'Normal'),\n",
              " ('testNormal14.png', 'Normal'),\n",
              " ('testNormal15.png', 'Normal'),\n",
              " ('testNormal12.png', 'Normal'),\n",
              " ('testNormal11.png', 'Normal'),\n",
              " ('testNormal16.png', 'Normal'),\n",
              " ('testNormal13.png', 'Normal'),\n",
              " ('testNormal18.png', 'Normal'),\n",
              " ('testNormal17.png', 'Normal'),\n",
              " ('testCOVID4.png', 'COVID'),\n",
              " ('testCOVID1.png', 'COVID'),\n",
              " ('testCOVID5.png', 'COVID'),\n",
              " ('testCOVID3.png', 'COVID'),\n",
              " ('testCOVID2.png', 'COVID'),\n",
              " ('testCOVID6.png', 'COVID'),\n",
              " ('testCOVID10.png', 'COVID'),\n",
              " ('testCOVID7.png', 'COVID'),\n",
              " ('testCOVID9.png', 'COVID'),\n",
              " ('testCOVID11.png', 'Normal'),\n",
              " ('testCOVID8.png', 'COVID'),\n",
              " ('testCOVID12.png', 'COVID'),\n",
              " ('testCOVID17.png', 'COVID'),\n",
              " ('testCOVID13.png', 'COVID'),\n",
              " ('testCOVID14.png', 'COVID'),\n",
              " ('testCOVID15.png', 'COVID'),\n",
              " ('testCOVID16.png', 'COVID'),\n",
              " ('testCOVID18.png', 'COVID')]"
            ]
          },
          "metadata": {},
          "execution_count": 5
        }
      ],
      "source": [
        "predict"
      ]
    },
    {
      "cell_type": "code",
      "execution_count": 5,
      "metadata": {
        "id": "qk8ptc2jtkkf"
      },
      "outputs": [],
      "source": []
    }
  ],
  "metadata": {
    "accelerator": "GPU",
    "colab": {
      "provenance": []
    },
    "kernelspec": {
      "display_name": "Python 3",
      "language": "python",
      "name": "python3"
    },
    "language_info": {
      "codemirror_mode": {
        "name": "ipython",
        "version": 3
      },
      "file_extension": ".py",
      "mimetype": "text/x-python",
      "name": "python",
      "nbconvert_exporter": "python",
      "pygments_lexer": "ipython3",
      "version": "3.6.9"
    }
  },
  "nbformat": 4,
  "nbformat_minor": 0
}