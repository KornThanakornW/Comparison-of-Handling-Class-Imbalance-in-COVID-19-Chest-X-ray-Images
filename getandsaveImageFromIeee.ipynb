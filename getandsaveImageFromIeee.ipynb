{
 "cells": [
  {
   "cell_type": "markdown",
   "id": "8929abf3",
   "metadata": {},
   "source": [
    "6210407960 นายธนกร วงษ์สนิท"
   ]
  },
  {
   "cell_type": "markdown",
   "id": "054f3e50",
   "metadata": {},
   "source": [
    "A public open dataset of chest X-ray and CT images of patients.<br>\n",
    "ดาวน์โหลดข้อมูลรูปภาพได้จาก: __[ข้อมูลรูปภาพ](https://github.com/ieee8023/covid-chestxray-dataset)__"
   ]
  },
  {
   "cell_type": "code",
   "execution_count": 45,
   "id": "8660583f",
   "metadata": {},
   "outputs": [],
   "source": [
    "import pandas as pd"
   ]
  },
  {
   "cell_type": "code",
   "execution_count": 47,
   "id": "ca0e49df",
   "metadata": {},
   "outputs": [
    {
     "name": "stdout",
     "output_type": "stream",
     "text": [
      "<class 'pandas.core.frame.DataFrame'>\n",
      "RangeIndex: 950 entries, 0 to 949\n",
      "Data columns (total 30 columns):\n",
      " #   Column                  Non-Null Count  Dtype  \n",
      "---  ------                  --------------  -----  \n",
      " 0   patientid               950 non-null    object \n",
      " 1   offset                  697 non-null    float64\n",
      " 2   sex                     870 non-null    object \n",
      " 3   age                     713 non-null    float64\n",
      " 4   finding                 950 non-null    object \n",
      " 5   RT_PCR_positive         593 non-null    object \n",
      " 6   survival                361 non-null    object \n",
      " 7   intubated               248 non-null    object \n",
      " 8   intubation_present      250 non-null    object \n",
      " 9   went_icu                397 non-null    object \n",
      " 10  in_icu                  335 non-null    object \n",
      " 11  needed_supplemental_O2  90 non-null     object \n",
      " 12  extubated               37 non-null     object \n",
      " 13  temperature             78 non-null     float64\n",
      " 14  pO2_saturation          119 non-null    float64\n",
      " 15  leukocyte_count         16 non-null     float64\n",
      " 16  neutrophil_count        28 non-null     float64\n",
      " 17  lymphocyte_count        40 non-null     float64\n",
      " 18  view                    950 non-null    object \n",
      " 19  modality                950 non-null    object \n",
      " 20  date                    661 non-null    object \n",
      " 21  location                894 non-null    object \n",
      " 22  folder                  950 non-null    object \n",
      " 23  filename                950 non-null    object \n",
      " 24  doi                     382 non-null    object \n",
      " 25  url                     950 non-null    object \n",
      " 26  license                 705 non-null    object \n",
      " 27  clinical_notes          768 non-null    object \n",
      " 28  other_notes             436 non-null    object \n",
      " 29  Unnamed: 29             5 non-null      object \n",
      "dtypes: float64(7), object(23)\n",
      "memory usage: 222.8+ KB\n"
     ]
    }
   ],
   "source": [
    "df = pd.read_csv(\"./OriginalDataset/covid-chestxray-dataset-master/metadata.csv\")\n",
    "df.info()"
   ]
  },
  {
   "cell_type": "code",
   "execution_count": 48,
   "id": "e79c0e28",
   "metadata": {},
   "outputs": [
    {
     "data": {
      "text/plain": [
       "array(['PA', 'AP', 'L', 'Axial', 'AP Supine', 'Coronal', 'AP Erect'],\n",
       "      dtype=object)"
      ]
     },
     "execution_count": 48,
     "metadata": {},
     "output_type": "execute_result"
    }
   ],
   "source": [
    "df.view.unique()"
   ]
  },
  {
   "cell_type": "markdown",
   "id": "4c76706f",
   "metadata": {},
   "source": [
    "column ที่ใช้\n",
    "- finding\n",
    "- view column\n",
    "<br>a front view (PA, or posteroanterior) เอา AP ด้วย\n",
    ", [ไม่เอา a side view (LL, or latero-lateral) ]\n",
    "- modality column\n",
    "<br>x-ray\n",
    "- filename"
   ]
  },
  {
   "cell_type": "code",
   "execution_count": 49,
   "id": "1f9878e5",
   "metadata": {},
   "outputs": [
    {
     "data": {
      "text/plain": [
       "array(['X-ray', 'CT'], dtype=object)"
      ]
     },
     "execution_count": 49,
     "metadata": {},
     "output_type": "execute_result"
    }
   ],
   "source": [
    "df.modality.unique()"
   ]
  },
  {
   "cell_type": "code",
   "execution_count": 51,
   "id": "2f276590",
   "metadata": {},
   "outputs": [
    {
     "data": {
      "text/html": [
       "<div>\n",
       "<style scoped>\n",
       "    .dataframe tbody tr th:only-of-type {\n",
       "        vertical-align: middle;\n",
       "    }\n",
       "\n",
       "    .dataframe tbody tr th {\n",
       "        vertical-align: top;\n",
       "    }\n",
       "\n",
       "    .dataframe thead th {\n",
       "        text-align: right;\n",
       "    }\n",
       "</style>\n",
       "<table border=\"1\" class=\"dataframe\">\n",
       "  <thead>\n",
       "    <tr style=\"text-align: right;\">\n",
       "      <th></th>\n",
       "      <th>finding</th>\n",
       "      <th>view</th>\n",
       "      <th>filename</th>\n",
       "    </tr>\n",
       "  </thead>\n",
       "  <tbody>\n",
       "    <tr>\n",
       "      <th>0</th>\n",
       "      <td>Pneumonia/Viral/COVID-19</td>\n",
       "      <td>PA</td>\n",
       "      <td>auntminnie-a-2020_01_28_23_51_6665_2020_01_28_...</td>\n",
       "    </tr>\n",
       "    <tr>\n",
       "      <th>1</th>\n",
       "      <td>Pneumonia/Viral/COVID-19</td>\n",
       "      <td>PA</td>\n",
       "      <td>auntminnie-b-2020_01_28_23_51_6665_2020_01_28_...</td>\n",
       "    </tr>\n",
       "    <tr>\n",
       "      <th>2</th>\n",
       "      <td>Pneumonia/Viral/COVID-19</td>\n",
       "      <td>PA</td>\n",
       "      <td>auntminnie-c-2020_01_28_23_51_6665_2020_01_28_...</td>\n",
       "    </tr>\n",
       "    <tr>\n",
       "      <th>3</th>\n",
       "      <td>Pneumonia/Viral/COVID-19</td>\n",
       "      <td>PA</td>\n",
       "      <td>auntminnie-d-2020_01_28_23_51_6665_2020_01_28_...</td>\n",
       "    </tr>\n",
       "    <tr>\n",
       "      <th>4</th>\n",
       "      <td>Pneumonia/Viral/COVID-19</td>\n",
       "      <td>PA</td>\n",
       "      <td>nejmc2001573_f1a.jpeg</td>\n",
       "    </tr>\n",
       "    <tr>\n",
       "      <th>...</th>\n",
       "      <td>...</td>\n",
       "      <td>...</td>\n",
       "      <td>...</td>\n",
       "    </tr>\n",
       "    <tr>\n",
       "      <th>945</th>\n",
       "      <td>Pneumonia</td>\n",
       "      <td>AP</td>\n",
       "      <td>072ecaf8c60a81980abb57150a8016_jumbo-9.jpeg</td>\n",
       "    </tr>\n",
       "    <tr>\n",
       "      <th>946</th>\n",
       "      <td>Pneumonia</td>\n",
       "      <td>AP</td>\n",
       "      <td>ff33c406392b968d483174c97eb857_jumbo-9.jpeg</td>\n",
       "    </tr>\n",
       "    <tr>\n",
       "      <th>947</th>\n",
       "      <td>Pneumonia</td>\n",
       "      <td>PA</td>\n",
       "      <td>000001-266.jpg</td>\n",
       "    </tr>\n",
       "    <tr>\n",
       "      <th>948</th>\n",
       "      <td>Pneumonia</td>\n",
       "      <td>AP</td>\n",
       "      <td>000001-272.jpg</td>\n",
       "    </tr>\n",
       "    <tr>\n",
       "      <th>949</th>\n",
       "      <td>Pneumonia</td>\n",
       "      <td>L</td>\n",
       "      <td>000002-268.jpg</td>\n",
       "    </tr>\n",
       "  </tbody>\n",
       "</table>\n",
       "<p>866 rows × 3 columns</p>\n",
       "</div>"
      ],
      "text/plain": [
       "                      finding view  \\\n",
       "0    Pneumonia/Viral/COVID-19   PA   \n",
       "1    Pneumonia/Viral/COVID-19   PA   \n",
       "2    Pneumonia/Viral/COVID-19   PA   \n",
       "3    Pneumonia/Viral/COVID-19   PA   \n",
       "4    Pneumonia/Viral/COVID-19   PA   \n",
       "..                        ...  ...   \n",
       "945                 Pneumonia   AP   \n",
       "946                 Pneumonia   AP   \n",
       "947                 Pneumonia   PA   \n",
       "948                 Pneumonia   AP   \n",
       "949                 Pneumonia    L   \n",
       "\n",
       "                                              filename  \n",
       "0    auntminnie-a-2020_01_28_23_51_6665_2020_01_28_...  \n",
       "1    auntminnie-b-2020_01_28_23_51_6665_2020_01_28_...  \n",
       "2    auntminnie-c-2020_01_28_23_51_6665_2020_01_28_...  \n",
       "3    auntminnie-d-2020_01_28_23_51_6665_2020_01_28_...  \n",
       "4                                nejmc2001573_f1a.jpeg  \n",
       "..                                                 ...  \n",
       "945        072ecaf8c60a81980abb57150a8016_jumbo-9.jpeg  \n",
       "946        ff33c406392b968d483174c97eb857_jumbo-9.jpeg  \n",
       "947                                     000001-266.jpg  \n",
       "948                                     000001-272.jpg  \n",
       "949                                     000002-268.jpg  \n",
       "\n",
       "[866 rows x 3 columns]"
      ]
     },
     "execution_count": 51,
     "metadata": {},
     "output_type": "execute_result"
    }
   ],
   "source": [
    "dd = df[df['modality'].str.contains(r'.*x-ray.*', flags=re.IGNORECASE, regex=True)]\n",
    "dd.loc[:,['finding','view','filename']]"
   ]
  },
  {
   "cell_type": "code",
   "execution_count": 52,
   "id": "ee9466f9",
   "metadata": {},
   "outputs": [
    {
     "name": "stderr",
     "output_type": "stream",
     "text": [
      "<ipython-input-52-ca84b2231b68>:3: UserWarning: Boolean Series key will be reindexed to match DataFrame index.\n",
      "  dfUse = dfUse[df['modality'].str.contains(r'.*x-ray.*', flags=re.IGNORECASE, regex=True)]\n",
      "<ipython-input-52-ca84b2231b68>:4: UserWarning: Boolean Series key will be reindexed to match DataFrame index.\n",
      "  dfUse = dfUse[df['view'].str.contains(r'pa|ap', flags=re.IGNORECASE, regex=True)]\n"
     ]
    },
    {
     "data": {
      "text/html": [
       "<div>\n",
       "<style scoped>\n",
       "    .dataframe tbody tr th:only-of-type {\n",
       "        vertical-align: middle;\n",
       "    }\n",
       "\n",
       "    .dataframe tbody tr th {\n",
       "        vertical-align: top;\n",
       "    }\n",
       "\n",
       "    .dataframe thead th {\n",
       "        text-align: right;\n",
       "    }\n",
       "</style>\n",
       "<table border=\"1\" class=\"dataframe\">\n",
       "  <thead>\n",
       "    <tr style=\"text-align: right;\">\n",
       "      <th></th>\n",
       "      <th>finding</th>\n",
       "      <th>view</th>\n",
       "      <th>filename</th>\n",
       "      <th>modality</th>\n",
       "    </tr>\n",
       "  </thead>\n",
       "  <tbody>\n",
       "    <tr>\n",
       "      <th>0</th>\n",
       "      <td>Pneumonia/Viral/COVID-19</td>\n",
       "      <td>PA</td>\n",
       "      <td>auntminnie-a-2020_01_28_23_51_6665_2020_01_28_...</td>\n",
       "      <td>X-ray</td>\n",
       "    </tr>\n",
       "    <tr>\n",
       "      <th>1</th>\n",
       "      <td>Pneumonia/Viral/COVID-19</td>\n",
       "      <td>PA</td>\n",
       "      <td>auntminnie-b-2020_01_28_23_51_6665_2020_01_28_...</td>\n",
       "      <td>X-ray</td>\n",
       "    </tr>\n",
       "    <tr>\n",
       "      <th>2</th>\n",
       "      <td>Pneumonia/Viral/COVID-19</td>\n",
       "      <td>PA</td>\n",
       "      <td>auntminnie-c-2020_01_28_23_51_6665_2020_01_28_...</td>\n",
       "      <td>X-ray</td>\n",
       "    </tr>\n",
       "    <tr>\n",
       "      <th>3</th>\n",
       "      <td>Pneumonia/Viral/COVID-19</td>\n",
       "      <td>PA</td>\n",
       "      <td>auntminnie-d-2020_01_28_23_51_6665_2020_01_28_...</td>\n",
       "      <td>X-ray</td>\n",
       "    </tr>\n",
       "    <tr>\n",
       "      <th>4</th>\n",
       "      <td>Pneumonia/Viral/COVID-19</td>\n",
       "      <td>PA</td>\n",
       "      <td>nejmc2001573_f1a.jpeg</td>\n",
       "      <td>X-ray</td>\n",
       "    </tr>\n",
       "    <tr>\n",
       "      <th>...</th>\n",
       "      <td>...</td>\n",
       "      <td>...</td>\n",
       "      <td>...</td>\n",
       "      <td>...</td>\n",
       "    </tr>\n",
       "    <tr>\n",
       "      <th>935</th>\n",
       "      <td>Pneumonia/Viral/COVID-19</td>\n",
       "      <td>AP</td>\n",
       "      <td>16883_1_1.png</td>\n",
       "      <td>X-ray</td>\n",
       "    </tr>\n",
       "    <tr>\n",
       "      <th>936</th>\n",
       "      <td>Pneumonia/Viral/COVID-19</td>\n",
       "      <td>PA</td>\n",
       "      <td>2edb88df42cab5e5fbc18b3965e0bd_jumbo.jpeg</td>\n",
       "      <td>X-ray</td>\n",
       "    </tr>\n",
       "    <tr>\n",
       "      <th>937</th>\n",
       "      <td>Pneumonia/Viral/COVID-19</td>\n",
       "      <td>AP</td>\n",
       "      <td>16858_1_1.png</td>\n",
       "      <td>X-ray</td>\n",
       "    </tr>\n",
       "    <tr>\n",
       "      <th>938</th>\n",
       "      <td>Pneumonia/Viral/COVID-19</td>\n",
       "      <td>AP</td>\n",
       "      <td>16858_3_1.png</td>\n",
       "      <td>X-ray</td>\n",
       "    </tr>\n",
       "    <tr>\n",
       "      <th>939</th>\n",
       "      <td>Pneumonia/Viral/COVID-19</td>\n",
       "      <td>PA</td>\n",
       "      <td>16865_1_1.jpg</td>\n",
       "      <td>X-ray</td>\n",
       "    </tr>\n",
       "  </tbody>\n",
       "</table>\n",
       "<p>478 rows × 4 columns</p>\n",
       "</div>"
      ],
      "text/plain": [
       "                      finding view  \\\n",
       "0    Pneumonia/Viral/COVID-19   PA   \n",
       "1    Pneumonia/Viral/COVID-19   PA   \n",
       "2    Pneumonia/Viral/COVID-19   PA   \n",
       "3    Pneumonia/Viral/COVID-19   PA   \n",
       "4    Pneumonia/Viral/COVID-19   PA   \n",
       "..                        ...  ...   \n",
       "935  Pneumonia/Viral/COVID-19   AP   \n",
       "936  Pneumonia/Viral/COVID-19   PA   \n",
       "937  Pneumonia/Viral/COVID-19   AP   \n",
       "938  Pneumonia/Viral/COVID-19   AP   \n",
       "939  Pneumonia/Viral/COVID-19   PA   \n",
       "\n",
       "                                              filename modality  \n",
       "0    auntminnie-a-2020_01_28_23_51_6665_2020_01_28_...    X-ray  \n",
       "1    auntminnie-b-2020_01_28_23_51_6665_2020_01_28_...    X-ray  \n",
       "2    auntminnie-c-2020_01_28_23_51_6665_2020_01_28_...    X-ray  \n",
       "3    auntminnie-d-2020_01_28_23_51_6665_2020_01_28_...    X-ray  \n",
       "4                                nejmc2001573_f1a.jpeg    X-ray  \n",
       "..                                                 ...      ...  \n",
       "935                                      16883_1_1.png    X-ray  \n",
       "936          2edb88df42cab5e5fbc18b3965e0bd_jumbo.jpeg    X-ray  \n",
       "937                                      16858_1_1.png    X-ray  \n",
       "938                                      16858_3_1.png    X-ray  \n",
       "939                                      16865_1_1.jpg    X-ray  \n",
       "\n",
       "[478 rows x 4 columns]"
      ]
     },
     "execution_count": 52,
     "metadata": {},
     "output_type": "execute_result"
    }
   ],
   "source": [
    "import re\n",
    "dfUse = df[df['finding'].str.contains(r'.*Covid.*', flags=re.IGNORECASE, regex=True)]\n",
    "dfUse = dfUse[df['modality'].str.contains(r'.*x-ray.*', flags=re.IGNORECASE, regex=True)]\n",
    "dfUse = dfUse[df['view'].str.contains(r'pa|ap', flags=re.IGNORECASE, regex=True)]\n",
    "dfUse = dfUse.loc[:,['finding','view','filename','modality']]\n",
    "dfUse"
   ]
  },
  {
   "cell_type": "code",
   "execution_count": 53,
   "id": "2925b8a5",
   "metadata": {},
   "outputs": [
    {
     "data": {
      "text/plain": [
       "0      auntminnie-a-2020_01_28_23_51_6665_2020_01_28_...\n",
       "1      auntminnie-b-2020_01_28_23_51_6665_2020_01_28_...\n",
       "2      auntminnie-c-2020_01_28_23_51_6665_2020_01_28_...\n",
       "3      auntminnie-d-2020_01_28_23_51_6665_2020_01_28_...\n",
       "4                                  nejmc2001573_f1a.jpeg\n",
       "                             ...                        \n",
       "935                                        16883_1_1.png\n",
       "936            2edb88df42cab5e5fbc18b3965e0bd_jumbo.jpeg\n",
       "937                                        16858_1_1.png\n",
       "938                                        16858_3_1.png\n",
       "939                                        16865_1_1.jpg\n",
       "Name: filename, Length: 478, dtype: object"
      ]
     },
     "execution_count": 53,
     "metadata": {},
     "output_type": "execute_result"
    }
   ],
   "source": [
    "series = dfUse.filename\n",
    "series"
   ]
  },
  {
   "cell_type": "code",
   "execution_count": 54,
   "id": "11e81b5d",
   "metadata": {},
   "outputs": [
    {
     "data": {
      "text/plain": [
       "'/Users/thanakornwongsanit/Downloads/CSproject'"
      ]
     },
     "execution_count": 54,
     "metadata": {},
     "output_type": "execute_result"
    }
   ],
   "source": [
    "pwd"
   ]
  },
  {
   "cell_type": "markdown",
   "id": "b2ebfe98",
   "metadata": {},
   "source": [
    "# Resize"
   ]
  },
  {
   "cell_type": "code",
   "execution_count": 56,
   "id": "38c846ea",
   "metadata": {},
   "outputs": [
    {
     "name": "stdout",
     "output_type": "stream",
     "text": [
      "Original size : (299, 299)\n"
     ]
    }
   ],
   "source": [
    "from PIL import Image\n",
    "\n",
    "image = Image.open('/Users/thanakornwongsanit/Downloads/CSproject/Dataset/resize/asdf.png')\n",
    "print(f\"Original size : {image.size}\") # 5464x3640\n",
    "\n",
    "sunset_resized = image.resize((400, 400))\n",
    "sunset_resized.save('asdddd.jpeg')"
   ]
  },
  {
   "cell_type": "code",
   "execution_count": 43,
   "id": "d39120dd",
   "metadata": {},
   "outputs": [
    {
     "data": {
      "text/plain": [
       "'/Users/thanakornwongsanit/Downloads/CSproject'"
      ]
     },
     "execution_count": 43,
     "metadata": {},
     "output_type": "execute_result"
    }
   ],
   "source": [
    "pwd"
   ]
  },
  {
   "cell_type": "markdown",
   "id": "6d928ad9",
   "metadata": {},
   "source": [
    "## Grey scale"
   ]
  },
  {
   "cell_type": "code",
   "execution_count": 104,
   "id": "846036f0",
   "metadata": {},
   "outputs": [],
   "source": [
    "# Import opencv\n",
    "import cv2\n",
    "  \n",
    "# Use the second argument or (flag value) zero\n",
    "# that specifies the image is to be read in grayscale mode\n",
    "img = cv2.imread('/Users/thanakornwongsanit/Downloads/CSproject/Dataset/resize/aaad.jpg', 0)\n",
    "  \n",
    "cv2.imshow('Grayscale Image', img)"
   ]
  },
  {
   "cell_type": "code",
   "execution_count": 105,
   "id": "41f6c072",
   "metadata": {},
   "outputs": [
    {
     "data": {
      "text/plain": [
       "<matplotlib.image.AxesImage at 0x7f9c5a254d00>"
      ]
     },
     "execution_count": 105,
     "metadata": {},
     "output_type": "execute_result"
    },
    {
     "data": {
      "image/png": "[encoded data removed]",
      "text/plain": [
       "<Figure size 432x288 with 1 Axes>"
      ]
     },
     "metadata": {
      "needs_background": "light"
     },
     "output_type": "display_data"
    }
   ],
   "source": [
    "import matplotlib.pyplot as plt\n",
    "plt.imshow(img)"
   ]
  },
  {
   "cell_type": "code",
   "execution_count": 106,
   "id": "ed32c4e8",
   "metadata": {},
   "outputs": [
    {
     "data": {
      "text/plain": [
       "<matplotlib.image.AxesImage at 0x7f9c5a226e50>"
      ]
     },
     "execution_count": 106,
     "metadata": {},
     "output_type": "execute_result"
    },
    {
     "data": {
      "image/png": "[encoded data removed]",
      "text/plain": [
       "<Figure size 432x288 with 1 Axes>"
      ]
     },
     "metadata": {
      "needs_background": "light"
     },
     "output_type": "display_data"
    }
   ],
   "source": [
    "plt.imshow(img, cmap='gray')"
   ]
  },
  {
   "cell_type": "code",
   "execution_count": 107,
   "id": "480545ce",
   "metadata": {},
   "outputs": [
    {
     "data": {
      "text/plain": [
       "(2880, 2376)"
      ]
     },
     "execution_count": 107,
     "metadata": {},
     "output_type": "execute_result"
    }
   ],
   "source": [
    "img.shape"
   ]
  },
  {
   "cell_type": "code",
   "execution_count": 110,
   "id": "6361c6cc",
   "metadata": {},
   "outputs": [],
   "source": [
    "img_resized = cv2.resize(img,(299, 299))"
   ]
  },
  {
   "cell_type": "code",
   "execution_count": 111,
   "id": "a1305d47",
   "metadata": {},
   "outputs": [
    {
     "data": {
      "text/plain": [
       "<matplotlib.image.AxesImage at 0x7f9c5b8535b0>"
      ]
     },
     "execution_count": 111,
     "metadata": {},
     "output_type": "execute_result"
    },
    {
     "data": {
      "image/png": "[encoded data removed]",
      "text/plain": [
       "<Figure size 432x288 with 1 Axes>"
      ]
     },
     "metadata": {
      "needs_background": "light"
     },
     "output_type": "display_data"
    }
   ],
   "source": [
    "plt.imshow(img)"
   ]
  },
  {
   "cell_type": "code",
   "execution_count": 113,
   "id": "c16c4957",
   "metadata": {},
   "outputs": [
    {
     "data": {
      "text/plain": [
       "(299, 299)"
      ]
     },
     "execution_count": 113,
     "metadata": {},
     "output_type": "execute_result"
    }
   ],
   "source": [
    "img_resized.shape"
   ]
  },
  {
   "cell_type": "markdown",
   "id": "1f987658",
   "metadata": {},
   "source": [
    "ถ้าอ่านธรรมดาจะได้ 3 layer"
   ]
  },
  {
   "cell_type": "code",
   "execution_count": 85,
   "id": "3273d73b",
   "metadata": {},
   "outputs": [
    {
     "name": "stdout",
     "output_type": "stream",
     "text": [
      "<PIL.JpegImagePlugin.JpegImageFile image mode=RGB size=2376x2880 at 0x7F9C5BD20250>\n"
     ]
    }
   ],
   "source": [
    "image = Image.open('/Users/thanakornwongsanit/Downloads/CSproject/Dataset/resize/aaad.jpg')\n",
    "print(image)"
   ]
  },
  {
   "cell_type": "code",
   "execution_count": 88,
   "id": "505ea4d5",
   "metadata": {},
   "outputs": [
    {
     "data": {
      "text/plain": [
       "(2376, 2880)"
      ]
     },
     "execution_count": 88,
     "metadata": {},
     "output_type": "execute_result"
    }
   ],
   "source": [
    "image.size"
   ]
  },
  {
   "cell_type": "markdown",
   "id": "132c3b90",
   "metadata": {},
   "source": [
    "# chang to grey scale, resize, save"
   ]
  },
  {
   "cell_type": "code",
   "execution_count": 116,
   "id": "bea769a3",
   "metadata": {
    "scrolled": true
   },
   "outputs": [
    {
     "name": "stdout",
     "output_type": "stream",
     "text": [
      "Original size : (888, 882)\n",
      "Original size : (891, 880)\n",
      "Original size : (876, 882)\n",
      "Original size : (874, 880)\n",
      "Original size : (1272, 1645)\n",
      "Original size : (1308, 1652)\n",
      "Original size : (1402, 1401)\n",
      "Original size : (1412, 1404)\n",
      "Original size : (1148, 2563)\n",
      "Original size : (630, 700)\n",
      "Original size : (842, 1090)\n",
      "Original size : (874, 1104)\n",
      "Original size : (1439, 1800)\n",
      "Original size : (841, 1107)\n",
      "Original size : (1570, 1695)\n",
      "Original size : (1333, 1118)\n",
      "Original size : (1332, 1175)\n",
      "Original size : (1330, 1187)\n",
      "Original size : (4095, 3342)\n",
      "Original size : (342, 417)\n",
      "Original size : (341, 417)\n",
      "Original size : (341, 416)\n",
      "Original size : (1343, 1300)\n",
      "Original size : (1163, 1165)\n",
      "Original size : (1161, 1170)\n",
      "Original size : (1165, 1165)\n",
      "Original size : (1161, 1166)\n",
      "Original size : (3368, 2800)\n",
      "Original size : (1262, 1446)\n",
      "Original size : (2840, 2972)\n",
      "Original size : (2190, 2567)\n",
      "Original size : (1835, 2386)\n",
      "Original size : (1442, 1727)\n",
      "Original size : (1243, 1249)\n",
      "Original size : (3480, 4248)\n",
      "Original size : (3480, 4248)\n",
      "Original size : (657, 657)\n",
      "Original size : (659, 651)\n",
      "Original size : (1024, 1024)\n",
      "Original size : (1024, 1024)\n",
      "Original size : (1668, 1641)\n",
      "Original size : (1552, 1726)\n",
      "Original size : (1479, 1793)\n",
      "Original size : (1403, 1696)\n",
      "Original size : (1505, 1837)\n",
      "Original size : (1472, 1799)\n",
      "Original size : (1285, 1992)\n",
      "Original size : (1482, 1989)\n",
      "Original size : (1369, 2061)\n",
      "Original size : (1447, 1884)\n",
      "Original size : (1448, 1592)\n",
      "Original size : (1648, 2150)\n",
      "Original size : (1611, 1677)\n",
      "Original size : (1550, 1598)\n",
      "Original size : (2336, 2836)\n",
      "Original size : (2048, 2500)\n",
      "Original size : (842, 1024)\n",
      "Original size : (3408, 4200)\n",
      "Original size : (842, 1024)\n",
      "Original size : (708, 629)\n",
      "Original size : (707, 625)\n",
      "Original size : (615, 685)\n",
      "Original size : (613, 694)\n",
      "Original size : (611, 695)\n",
      "Original size : (411, 477)\n",
      "Original size : (500, 508)\n",
      "Original size : (345, 359)\n",
      "Original size : (330, 362)\n",
      "Original size : (237, 328)\n",
      "Original size : (294, 298)\n",
      "Original size : (448, 425)\n",
      "Original size : (362, 439)\n",
      "Original size : (362, 445)\n",
      "Original size : (391, 436)\n",
      "Original size : (391, 439)\n",
      "Original size : (685, 683)\n",
      "Original size : (750, 781)\n",
      "Original size : (842, 1024)\n",
      "Original size : (1024, 1024)\n",
      "Original size : (1483, 2059)\n",
      "Original size : (1466, 1723)\n",
      "Original size : (1463, 1989)\n",
      "Original size : (1303, 1458)\n",
      "Original size : (247, 256)\n",
      "Original size : (249, 255)\n",
      "Original size : (1326, 1384)\n",
      "Original size : (1062, 1296)\n",
      "Original size : (437, 424)\n",
      "Original size : (1632, 1610)\n",
      "Original size : (3520, 4280)\n",
      "Original size : (973, 1474)\n",
      "Original size : (982, 1261)\n",
      "Original size : (1516, 1524)\n",
      "Original size : (2339, 2348)\n",
      "Original size : (2465, 3039)\n",
      "Original size : (776, 1001)\n",
      "Original size : (1127, 1300)\n",
      "Original size : (1094, 1169)\n",
      "Original size : (998, 1279)\n",
      "Original size : (3308, 3670)\n",
      "Original size : (1792, 1528)\n",
      "Original size : (1024, 931)\n",
      "Original size : (1024, 1007)\n",
      "Original size : (919, 1064)\n",
      "Original size : (945, 952)\n",
      "Original size : (913, 1064)\n",
      "Original size : (806, 834)\n",
      "Original size : (762, 894)\n",
      "Original size : (712, 972)\n",
      "Original size : (913, 994)\n",
      "Original size : (1163, 1127)\n",
      "Original size : (901, 981)\n",
      "Original size : (582, 522)\n",
      "Original size : (582, 483)\n",
      "Original size : (576, 516)\n",
      "Original size : (576, 508)\n",
      "Original size : (557, 541)\n",
      "Original size : (557, 533)\n",
      "Original size : (575, 568)\n",
      "Original size : (575, 577)\n",
      "Original size : (3495, 3945)\n",
      "Original size : (2165, 2593)\n",
      "Original size : (1969, 2221)\n",
      "Original size : (389, 450)\n",
      "Original size : (605, 862)\n",
      "Original size : (605, 756)\n",
      "Original size : (605, 778)\n",
      "Original size : (1328, 1415)\n",
      "Original size : (3520, 4280)\n",
      "Original size : (3433, 3465)\n",
      "Original size : (2315, 2493)\n",
      "Original size : (1618, 1582)\n",
      "Original size : (397, 474)\n",
      "Original size : (2880, 2376)\n",
      "Original size : (1760, 2140)\n",
      "Original size : (1024, 1020)\n",
      "Original size : (821, 797)\n",
      "Original size : (2708, 3600)\n",
      "Original size : (1791, 2276)\n",
      "Original size : (2250, 2521)\n",
      "Original size : (2244, 2412)\n",
      "Original size : (1112, 1484)\n",
      "Original size : (1468, 1512)\n",
      "Original size : (543, 640)\n",
      "Original size : (574, 640)\n",
      "Original size : (2800, 3408)\n",
      "Original size : (702, 780)\n",
      "Original size : (956, 1280)\n",
      "Original size : (1078, 1374)\n",
      "Original size : (1013, 1024)\n",
      "Original size : (1240, 1667)\n",
      "Original size : (1282, 1210)\n",
      "Original size : (798, 906)\n",
      "Original size : (799, 894)\n",
      "Original size : (835, 842)\n",
      "Original size : (833, 954)\n",
      "Original size : (799, 842)\n",
      "Original size : (800, 955)\n",
      "Original size : (834, 859)\n",
      "Original size : (833, 938)\n",
      "Original size : (754, 841)\n",
      "Original size : (156, 157)\n",
      "Original size : (157, 173)\n",
      "Original size : (157, 165)\n",
      "Original size : (430, 500)\n",
      "Original size : (512, 512)\n",
      "Original size : (666, 703)\n",
      "Original size : (945, 1044)\n",
      "Original size : (1395, 1205)\n",
      "Original size : (1395, 1205)\n",
      "Original size : (1852, 2169)\n",
      "Original size : (2516, 3028)\n",
      "Original size : (2048, 2500)\n",
      "Original size : (2048, 2500)\n",
      "Original size : (733, 814)\n",
      "Original size : (852, 957)\n",
      "Original size : (765, 815)\n",
      "Original size : (723, 828)\n",
      "Original size : (2373, 2336)\n",
      "Original size : (1728, 2055)\n",
      "Original size : (1974, 2267)\n",
      "Original size : (2336, 2373)\n",
      "Original size : (772, 867)\n",
      "Original size : (390, 492)\n",
      "Original size : (2276, 2680)\n",
      "Original size : (2200, 2200)\n",
      "Original size : (787, 902)\n",
      "Original size : (806, 834)\n",
      "Original size : (762, 894)\n",
      "Original size : (712, 972)\n",
      "Original size : (913, 994)\n",
      "Original size : (1992, 2200)\n",
      "Original size : (1828, 2200)\n",
      "Original size : (1831, 2200)\n",
      "Original size : (842, 1024)\n",
      "Original size : (1812, 2200)\n",
      "Original size : (1125, 1200)\n",
      "Original size : (1646, 1974)\n",
      "Original size : (1474, 1904)\n",
      "Original size : (2195, 2200)\n",
      "Original size : (372, 338)\n",
      "Original size : (372, 338)\n",
      "Original size : (324, 331)\n",
      "Original size : (325, 333)\n",
      "Original size : (324, 332)\n",
      "Original size : (497, 679)\n",
      "Original size : (440, 610)\n",
      "Original size : (1024, 1223)\n",
      "Original size : (1024, 1233)\n",
      "Original size : (1024, 1239)\n",
      "Original size : (1024, 1160)\n",
      "Original size : (1024, 1235)\n",
      "Original size : (401, 443)\n",
      "Original size : (402, 445)\n",
      "Original size : (714, 900)\n",
      "Original size : (326, 440)\n",
      "Original size : (348, 440)\n",
      "Original size : (369, 444)\n",
      "Original size : (370, 443)\n",
      "Original size : (367, 442)\n",
      "Original size : (366, 446)\n",
      "Original size : (587, 659)\n",
      "Original size : (524, 622)\n",
      "Original size : (1703, 1398)\n",
      "Original size : (1841, 1511)\n",
      "Original size : (1820, 1518)\n",
      "Original size : (973, 972)\n",
      "Original size : (4757, 5623)\n",
      "Original size : (3520, 4280)\n",
      "Original size : (852, 817)\n",
      "Original size : (1455, 1991)\n",
      "Original size : (597, 737)\n",
      "Original size : (2336, 2836)\n",
      "Original size : (2336, 2836)\n",
      "Original size : (2296, 2316)\n",
      "Original size : (2336, 2656)\n",
      "Original size : (2336, 2836)\n",
      "Original size : (2336, 2836)\n",
      "Original size : (2336, 2836)\n",
      "Original size : (872, 1045)\n",
      "Original size : (909, 1082)\n",
      "Original size : (885, 1036)\n",
      "Original size : (580, 499)\n",
      "Original size : (797, 958)\n",
      "Original size : (600, 623)\n",
      "Original size : (1805, 2200)\n",
      "Original size : (2000, 2000)\n",
      "Original size : (2000, 2000)\n",
      "Original size : (2000, 2000)\n",
      "Original size : (2000, 2000)\n",
      "Original size : (2000, 2000)\n",
      "Original size : (2000, 2000)\n",
      "Original size : (2000, 2000)\n",
      "Original size : (2000, 2000)\n",
      "Original size : (2000, 2000)\n",
      "Original size : (2000, 2000)\n",
      "Original size : (2000, 2000)\n",
      "Original size : (2000, 2000)\n",
      "Original size : (2000, 2000)\n",
      "Original size : (2000, 2000)\n",
      "Original size : (2000, 2000)\n",
      "Original size : (2000, 2000)\n",
      "Original size : (2000, 2000)\n",
      "Original size : (2000, 2000)\n",
      "Original size : (2000, 2000)\n",
      "Original size : (2000, 2000)\n",
      "Original size : (2000, 2000)\n",
      "Original size : (2000, 2000)\n",
      "Original size : (2000, 2000)\n",
      "Original size : (2000, 2000)\n",
      "Original size : (2000, 2000)\n",
      "Original size : (2000, 2000)\n",
      "Original size : (2000, 2000)\n",
      "Original size : (2000, 2000)\n",
      "Original size : (2000, 2000)\n",
      "Original size : (2000, 2000)\n",
      "Original size : (2000, 2000)\n",
      "Original size : (2000, 2000)\n",
      "Original size : (2000, 2000)\n",
      "Original size : (2000, 2000)\n",
      "Original size : (2000, 2000)\n",
      "Original size : (2000, 2000)\n",
      "Original size : (2000, 2000)\n",
      "Original size : (2000, 2000)\n",
      "Original size : (2000, 2000)\n",
      "Original size : (2000, 2000)\n",
      "Original size : (2000, 2000)\n",
      "Original size : (2000, 2000)\n",
      "Original size : (2000, 2000)\n",
      "Original size : (2000, 2000)\n",
      "Original size : (2000, 2000)\n"
     ]
    },
    {
     "name": "stdout",
     "output_type": "stream",
     "text": [
      "Original size : (2000, 2000)\n",
      "Original size : (2000, 2000)\n",
      "Original size : (2000, 2000)\n",
      "Original size : (2000, 2000)\n",
      "Original size : (2000, 2000)\n",
      "Original size : (2000, 2000)\n",
      "Original size : (2000, 2000)\n",
      "Original size : (2000, 2000)\n",
      "Original size : (2000, 2000)\n",
      "Original size : (2000, 2000)\n",
      "Original size : (2000, 2000)\n",
      "Original size : (2000, 2000)\n",
      "Original size : (2000, 2000)\n",
      "Original size : (2000, 2000)\n",
      "Original size : (2000, 2000)\n",
      "Original size : (2000, 2000)\n",
      "Original size : (2000, 2000)\n",
      "Original size : (2000, 2000)\n",
      "Original size : (2000, 2000)\n",
      "Original size : (2000, 2000)\n",
      "Original size : (2000, 2000)\n",
      "Original size : (2000, 2000)\n",
      "Original size : (2000, 2000)\n",
      "Original size : (2000, 2000)\n",
      "Original size : (2000, 2000)\n",
      "Original size : (2000, 2000)\n",
      "Original size : (2000, 2000)\n",
      "Original size : (2000, 2000)\n",
      "Original size : (2000, 2000)\n",
      "Original size : (2000, 2000)\n",
      "Original size : (2000, 2000)\n",
      "Original size : (2000, 2000)\n",
      "Original size : (2000, 2000)\n",
      "Original size : (2000, 2000)\n",
      "Original size : (1769, 1650)\n",
      "Original size : (1816, 1650)\n",
      "Original size : (554, 561)\n",
      "Original size : (509, 613)\n",
      "Original size : (512, 582)\n",
      "Original size : (958, 1015)\n",
      "Original size : (958, 1003)\n",
      "Original size : (609, 550)\n",
      "Original size : (610, 586)\n",
      "Original size : (609, 605)\n",
      "Original size : (743, 768)\n",
      "Original size : (843, 907)\n",
      "Original size : (843, 868)\n",
      "Original size : (797, 961)\n",
      "Original size : (797, 961)\n",
      "Original size : (791, 963)\n",
      "Original size : (839, 963)\n",
      "Original size : (841, 961)\n",
      "Original size : (843, 969)\n",
      "Original size : (845, 969)\n",
      "Original size : (745, 877)\n",
      "Original size : (743, 861)\n",
      "Original size : (755, 875)\n",
      "Original size : (757, 857)\n",
      "Original size : (434, 528)\n",
      "Original size : (434, 487)\n",
      "Original size : (435, 478)\n",
      "Original size : (433, 490)\n",
      "Original size : (1031, 1038)\n",
      "Original size : (729, 951)\n",
      "Original size : (442, 443)\n",
      "Original size : (443, 433)\n",
      "Original size : (441, 441)\n",
      "Original size : (1080, 1303)\n",
      "Original size : (967, 1000)\n",
      "Original size : (931, 998)\n",
      "Original size : (645, 701)\n",
      "Original size : (737, 763)\n",
      "Original size : (738, 719)\n",
      "Original size : (739, 643)\n",
      "Original size : (1246, 1513)\n",
      "Original size : (1237, 1552)\n",
      "Original size : (793, 945)\n",
      "Original size : (945, 945)\n",
      "Original size : (882, 876)\n",
      "Original size : (613, 745)\n",
      "Original size : (609, 749)\n",
      "Original size : (671, 693)\n",
      "Original size : (1080, 1333)\n",
      "Original size : (1020, 1340)\n",
      "Original size : (1031, 1340)\n",
      "Original size : (986, 968)\n",
      "Original size : (972, 979)\n",
      "Original size : (1056, 1051)\n",
      "Original size : (1056, 1051)\n",
      "Original size : (1130, 1180)\n",
      "Original size : (689, 907)\n",
      "Original size : (651, 913)\n",
      "Original size : (643, 913)\n",
      "Original size : (1294, 1168)\n",
      "Original size : (1308, 1118)\n",
      "Original size : (663, 779)\n",
      "Original size : (663, 784)\n",
      "Original size : (462, 497)\n",
      "Original size : (462, 496)\n",
      "Original size : (462, 506)\n",
      "Original size : (235, 331)\n",
      "Original size : (590, 734)\n",
      "Original size : (272, 324)\n",
      "Original size : (268, 291)\n",
      "Original size : (272, 286)\n",
      "Original size : (271, 361)\n",
      "Original size : (369, 468)\n",
      "Original size : (366, 465)\n",
      "Original size : (420, 475)\n",
      "Original size : (898, 898)\n",
      "Original size : (481, 479)\n",
      "Original size : (756, 685)\n",
      "Original size : (823, 685)\n",
      "Original size : (754, 685)\n",
      "Original size : (1261, 1269)\n",
      "Original size : (1246, 1414)\n",
      "Original size : (1264, 1399)\n",
      "Original size : (450, 450)\n",
      "Original size : (277, 375)\n",
      "Original size : (1655, 2000)\n",
      "Original size : (1857, 2000)\n",
      "Original size : (1933, 2000)\n",
      "Original size : (1607, 2000)\n",
      "Original size : (1390, 2000)\n",
      "Original size : (1390, 2000)\n",
      "Original size : (431, 489)\n",
      "Original size : (641, 866)\n",
      "Original size : (842, 1133)\n",
      "Original size : (842, 1056)\n",
      "Original size : (2466, 3040)\n",
      "Original size : (3408, 4200)\n",
      "Original size : (1185, 1161)\n",
      "Original size : (847, 1040)\n",
      "Original size : (1024, 1024)\n",
      "Original size : (1024, 1024)\n",
      "Original size : (745, 981)\n",
      "Original size : (701, 1109)\n",
      "Original size : (839, 1024)\n",
      "Original size : (839, 1024)\n",
      "Original size : (1024, 1024)\n",
      "Original size : (638, 1024)\n",
      "Original size : (817, 1024)\n",
      "Original size : (995, 1024)\n",
      "Original size : (785, 1024)\n",
      "Original size : (939, 1024)\n",
      "Original size : (1024, 1024)\n",
      "Original size : (783, 1024)\n",
      "Original size : (843, 1024)\n",
      "Original size : (843, 1024)\n",
      "Original size : (846, 1024)\n",
      "Original size : (960, 1024)\n",
      "Original size : (1024, 1024)\n",
      "Original size : (862, 1024)\n",
      "Original size : (858, 1024)\n",
      "Original size : (1024, 843)\n",
      "Original size : (806, 1024)\n",
      "Original size : (992, 1024)\n",
      "Original size : (862, 1024)\n",
      "Original size : (1802, 2200)\n",
      "Original size : (581, 731)\n",
      "Original size : (206, 220)\n",
      "Original size : (202, 227)\n",
      "Original size : (205, 221)\n",
      "Original size : (205, 225)\n",
      "Original size : (1711, 2038)\n",
      "Original size : (1701, 2037)\n",
      "Original size : (843, 1024)\n",
      "Original size : (770, 1024)\n",
      "Original size : (806, 1024)\n",
      "Original size : (914, 1024)\n",
      "Original size : (953, 1024)\n",
      "Original size : (843, 1024)\n",
      "Original size : (730, 1024)\n",
      "Original size : (907, 1024)\n",
      "Original size : (870, 1024)\n",
      "Original size : (750, 1024)\n",
      "Original size : (838, 1024)\n",
      "Original size : (534, 546)\n",
      "Original size : (487, 549)\n",
      "Original size : (489, 585)\n",
      "Original size : (472, 526)\n",
      "Original size : (1283, 1711)\n",
      "Original size : (1140, 1330)\n",
      "Original size : (980, 1024)\n",
      "Original size : (1731, 2200)\n",
      "Original size : (1731, 2200)\n",
      "Original size : (825, 864)\n"
     ]
    }
   ],
   "source": [
    "# importing os module\n",
    "import os\n",
    "# importing shutil module\n",
    "import shutil\n",
    "from PIL import Image\n",
    "\n",
    "# Source path\n",
    "source = \"/Users/thanakornwongsanit/Downloads/CSproject/OriginalDataset/covid-chestxray-dataset-master/images/\"\n",
    "# Destination path\n",
    "destination = \"/Users/thanakornwongsanit/Downloads/CSproject/Dataset/COVID/\"\n",
    "\n",
    "for i in series:\n",
    "    s = source+i\n",
    "    d = destination+i\n",
    "    # Copy and resize the content of\n",
    "    # source to destination\n",
    "    path = source+i\n",
    "    image = cv2.imread( path, 0)\n",
    "    print(f\"Original size : {image.shape}\")\n",
    "    img_resized = cv2.resize(image,(299, 299))\n",
    "    path_save = destination+i\n",
    "    cv2.imwrite(path_save, img_resized)"
   ]
  },
  {
   "cell_type": "code",
   "execution_count": null,
   "id": "f282a83f",
   "metadata": {},
   "outputs": [],
   "source": []
  }
 ],
 "metadata": {
  "kernelspec": {
   "display_name": "Python 3",
   "language": "python",
   "name": "python3"
  },
  "language_info": {
   "codemirror_mode": {
    "name": "ipython",
    "version": 3
   },
   "file_extension": ".py",
   "mimetype": "text/x-python",
   "name": "python",
   "nbconvert_exporter": "python",
   "pygments_lexer": "ipython3",
   "version": "3.8.8"
  }
 },
 "nbformat": 4,
 "nbformat_minor": 5
}
