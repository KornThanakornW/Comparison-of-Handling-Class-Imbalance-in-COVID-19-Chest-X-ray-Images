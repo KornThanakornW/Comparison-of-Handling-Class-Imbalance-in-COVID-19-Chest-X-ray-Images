{
 "cells": [
  {
   "cell_type": "markdown",
   "id": "33992ce5",
   "metadata": {},
   "source": [
    "6210407960 นายธนกร วงษ์สนิท"
   ]
  },
  {
   "cell_type": "markdown",
   "id": "dedda129",
   "metadata": {},
   "source": [
    "### A COVID-19 Radiography Database <br>\n",
    "ดาวน์โหลดข้อมูลรูปภาพได้จาก: __[ข้อมูลรูปภาพ](https://www.kaggle.com/datasets/tawsifurrahman/covid19-radiography-database)__"
   ]
  },
  {
   "cell_type": "code",
   "execution_count": 2,
   "id": "0c1aa514",
   "metadata": {},
   "outputs": [],
   "source": [
    "import pandas as pd"
   ]
  },
  {
   "cell_type": "code",
   "execution_count": 7,
   "id": "d702c5e6",
   "metadata": {},
   "outputs": [
    {
     "name": "stdout",
     "output_type": "stream",
     "text": [
      "<class 'pandas.core.frame.DataFrame'>\n",
      "RangeIndex: 3616 entries, 0 to 3615\n",
      "Data columns (total 4 columns):\n",
      " #   Column     Non-Null Count  Dtype \n",
      "---  ------     --------------  ----- \n",
      " 0   FILE NAME  3616 non-null   object\n",
      " 1   FORMAT     3616 non-null   object\n",
      " 2   SIZE       3616 non-null   object\n",
      " 3   URL        3616 non-null   object\n",
      "dtypes: object(4)\n",
      "memory usage: 113.1+ KB\n"
     ]
    }
   ],
   "source": [
    "dfCovid = pd.read_excel(\"./COVID-19_Dataset/COVID.metadata.xlsx\")\n",
    "dfCovid.info()"
   ]
  },
  {
   "cell_type": "code",
   "execution_count": 25,
   "id": "ed38cba3",
   "metadata": {},
   "outputs": [
    {
     "name": "stdout",
     "output_type": "stream",
     "text": [
      "<class 'pandas.core.frame.DataFrame'>\n",
      "RangeIndex: 10192 entries, 0 to 10191\n",
      "Data columns (total 4 columns):\n",
      " #   Column     Non-Null Count  Dtype \n",
      "---  ------     --------------  ----- \n",
      " 0   FILE NAME  10192 non-null  object\n",
      " 1   FORMAT     10192 non-null  object\n",
      " 2   SIZE       10192 non-null  object\n",
      " 3   URL        10192 non-null  object\n",
      "dtypes: object(4)\n",
      "memory usage: 318.6+ KB\n"
     ]
    }
   ],
   "source": [
    "dfNormal = pd.read_excel(\"./COVID-19_Dataset/Normal.metadata.xlsx\")\n",
    "dfNormal.info()"
   ]
  },
  {
   "cell_type": "code",
   "execution_count": 11,
   "id": "cc32c59d",
   "metadata": {},
   "outputs": [
    {
     "data": {
      "text/html": [
       "<div>\n",
       "<style scoped>\n",
       "    .dataframe tbody tr th:only-of-type {\n",
       "        vertical-align: middle;\n",
       "    }\n",
       "\n",
       "    .dataframe tbody tr th {\n",
       "        vertical-align: top;\n",
       "    }\n",
       "\n",
       "    .dataframe thead th {\n",
       "        text-align: right;\n",
       "    }\n",
       "</style>\n",
       "<table border=\"1\" class=\"dataframe\">\n",
       "  <thead>\n",
       "    <tr style=\"text-align: right;\">\n",
       "      <th></th>\n",
       "      <th>FILE NAME</th>\n",
       "      <th>FORMAT</th>\n",
       "      <th>SIZE</th>\n",
       "      <th>URL</th>\n",
       "    </tr>\n",
       "  </thead>\n",
       "  <tbody>\n",
       "    <tr>\n",
       "      <th>0</th>\n",
       "      <td>COVID-1</td>\n",
       "      <td>PNG</td>\n",
       "      <td>256*256</td>\n",
       "      <td>https://sirm.org/category/senza-categoria/covi...</td>\n",
       "    </tr>\n",
       "    <tr>\n",
       "      <th>1</th>\n",
       "      <td>COVID-2</td>\n",
       "      <td>PNG</td>\n",
       "      <td>256*256</td>\n",
       "      <td>https://sirm.org/category/senza-categoria/covi...</td>\n",
       "    </tr>\n",
       "    <tr>\n",
       "      <th>2</th>\n",
       "      <td>COVID-3</td>\n",
       "      <td>PNG</td>\n",
       "      <td>256*256</td>\n",
       "      <td>https://sirm.org/category/senza-categoria/covi...</td>\n",
       "    </tr>\n",
       "    <tr>\n",
       "      <th>3</th>\n",
       "      <td>COVID-4</td>\n",
       "      <td>PNG</td>\n",
       "      <td>256*256</td>\n",
       "      <td>https://sirm.org/category/senza-categoria/covi...</td>\n",
       "    </tr>\n",
       "    <tr>\n",
       "      <th>4</th>\n",
       "      <td>COVID-5</td>\n",
       "      <td>PNG</td>\n",
       "      <td>256*256</td>\n",
       "      <td>https://sirm.org/category/senza-categoria/covi...</td>\n",
       "    </tr>\n",
       "    <tr>\n",
       "      <th>...</th>\n",
       "      <td>...</td>\n",
       "      <td>...</td>\n",
       "      <td>...</td>\n",
       "      <td>...</td>\n",
       "    </tr>\n",
       "    <tr>\n",
       "      <th>3611</th>\n",
       "      <td>COVID-3612</td>\n",
       "      <td>PNG</td>\n",
       "      <td>256*256</td>\n",
       "      <td>https://bimcv.cipf.es/bimcv-projects/bimcv-cov...</td>\n",
       "    </tr>\n",
       "    <tr>\n",
       "      <th>3612</th>\n",
       "      <td>COVID-3613</td>\n",
       "      <td>PNG</td>\n",
       "      <td>256*256</td>\n",
       "      <td>https://bimcv.cipf.es/bimcv-projects/bimcv-cov...</td>\n",
       "    </tr>\n",
       "    <tr>\n",
       "      <th>3613</th>\n",
       "      <td>COVID-3614</td>\n",
       "      <td>PNG</td>\n",
       "      <td>256*256</td>\n",
       "      <td>https://bimcv.cipf.es/bimcv-projects/bimcv-cov...</td>\n",
       "    </tr>\n",
       "    <tr>\n",
       "      <th>3614</th>\n",
       "      <td>COVID-3615</td>\n",
       "      <td>PNG</td>\n",
       "      <td>256*256</td>\n",
       "      <td>https://bimcv.cipf.es/bimcv-projects/bimcv-cov...</td>\n",
       "    </tr>\n",
       "    <tr>\n",
       "      <th>3615</th>\n",
       "      <td>COVID-3616</td>\n",
       "      <td>PNG</td>\n",
       "      <td>256*256</td>\n",
       "      <td>https://bimcv.cipf.es/bimcv-projects/bimcv-cov...</td>\n",
       "    </tr>\n",
       "  </tbody>\n",
       "</table>\n",
       "<p>3616 rows × 4 columns</p>\n",
       "</div>"
      ],
      "text/plain": [
       "       FILE NAME FORMAT     SIZE  \\\n",
       "0        COVID-1    PNG  256*256   \n",
       "1        COVID-2    PNG  256*256   \n",
       "2        COVID-3    PNG  256*256   \n",
       "3        COVID-4    PNG  256*256   \n",
       "4        COVID-5    PNG  256*256   \n",
       "...          ...    ...      ...   \n",
       "3611  COVID-3612    PNG  256*256   \n",
       "3612  COVID-3613    PNG  256*256   \n",
       "3613  COVID-3614    PNG  256*256   \n",
       "3614  COVID-3615    PNG  256*256   \n",
       "3615  COVID-3616    PNG  256*256   \n",
       "\n",
       "                                                    URL  \n",
       "0     https://sirm.org/category/senza-categoria/covi...  \n",
       "1     https://sirm.org/category/senza-categoria/covi...  \n",
       "2     https://sirm.org/category/senza-categoria/covi...  \n",
       "3     https://sirm.org/category/senza-categoria/covi...  \n",
       "4     https://sirm.org/category/senza-categoria/covi...  \n",
       "...                                                 ...  \n",
       "3611  https://bimcv.cipf.es/bimcv-projects/bimcv-cov...  \n",
       "3612  https://bimcv.cipf.es/bimcv-projects/bimcv-cov...  \n",
       "3613  https://bimcv.cipf.es/bimcv-projects/bimcv-cov...  \n",
       "3614  https://bimcv.cipf.es/bimcv-projects/bimcv-cov...  \n",
       "3615  https://bimcv.cipf.es/bimcv-projects/bimcv-cov...  \n",
       "\n",
       "[3616 rows x 4 columns]"
      ]
     },
     "execution_count": 11,
     "metadata": {},
     "output_type": "execute_result"
    }
   ],
   "source": [
    "dfCovid"
   ]
  },
  {
   "cell_type": "code",
   "execution_count": 28,
   "id": "ab66e591",
   "metadata": {},
   "outputs": [
    {
     "data": {
      "text/html": [
       "<div>\n",
       "<style scoped>\n",
       "    .dataframe tbody tr th:only-of-type {\n",
       "        vertical-align: middle;\n",
       "    }\n",
       "\n",
       "    .dataframe tbody tr th {\n",
       "        vertical-align: top;\n",
       "    }\n",
       "\n",
       "    .dataframe thead th {\n",
       "        text-align: right;\n",
       "    }\n",
       "</style>\n",
       "<table border=\"1\" class=\"dataframe\">\n",
       "  <thead>\n",
       "    <tr style=\"text-align: right;\">\n",
       "      <th></th>\n",
       "      <th>FILE NAME</th>\n",
       "      <th>FORMAT</th>\n",
       "      <th>SIZE</th>\n",
       "      <th>URL</th>\n",
       "    </tr>\n",
       "  </thead>\n",
       "  <tbody>\n",
       "    <tr>\n",
       "      <th>0</th>\n",
       "      <td>NORMAL-1</td>\n",
       "      <td>PNG</td>\n",
       "      <td>256*256</td>\n",
       "      <td>https://www.kaggle.com/c/rsna-pneumonia-detect...</td>\n",
       "    </tr>\n",
       "    <tr>\n",
       "      <th>1</th>\n",
       "      <td>NORMAL-2</td>\n",
       "      <td>PNG</td>\n",
       "      <td>256*256</td>\n",
       "      <td>https://www.kaggle.com/c/rsna-pneumonia-detect...</td>\n",
       "    </tr>\n",
       "    <tr>\n",
       "      <th>2</th>\n",
       "      <td>NORMAL-3</td>\n",
       "      <td>PNG</td>\n",
       "      <td>256*256</td>\n",
       "      <td>https://www.kaggle.com/c/rsna-pneumonia-detect...</td>\n",
       "    </tr>\n",
       "    <tr>\n",
       "      <th>3</th>\n",
       "      <td>NORMAL-4</td>\n",
       "      <td>PNG</td>\n",
       "      <td>256*256</td>\n",
       "      <td>https://www.kaggle.com/c/rsna-pneumonia-detect...</td>\n",
       "    </tr>\n",
       "    <tr>\n",
       "      <th>4</th>\n",
       "      <td>NORMAL-5</td>\n",
       "      <td>PNG</td>\n",
       "      <td>256*256</td>\n",
       "      <td>https://www.kaggle.com/c/rsna-pneumonia-detect...</td>\n",
       "    </tr>\n",
       "    <tr>\n",
       "      <th>...</th>\n",
       "      <td>...</td>\n",
       "      <td>...</td>\n",
       "      <td>...</td>\n",
       "      <td>...</td>\n",
       "    </tr>\n",
       "    <tr>\n",
       "      <th>10187</th>\n",
       "      <td>NORMAL-10188</td>\n",
       "      <td>PNG</td>\n",
       "      <td>256*256</td>\n",
       "      <td>https://www.kaggle.com/paultimothymooney/chest...</td>\n",
       "    </tr>\n",
       "    <tr>\n",
       "      <th>10188</th>\n",
       "      <td>NORMAL-10189</td>\n",
       "      <td>PNG</td>\n",
       "      <td>256*256</td>\n",
       "      <td>https://www.kaggle.com/paultimothymooney/chest...</td>\n",
       "    </tr>\n",
       "    <tr>\n",
       "      <th>10189</th>\n",
       "      <td>NORMAL-10190</td>\n",
       "      <td>PNG</td>\n",
       "      <td>256*256</td>\n",
       "      <td>https://www.kaggle.com/paultimothymooney/chest...</td>\n",
       "    </tr>\n",
       "    <tr>\n",
       "      <th>10190</th>\n",
       "      <td>NORMAL-10191</td>\n",
       "      <td>PNG</td>\n",
       "      <td>256*256</td>\n",
       "      <td>https://www.kaggle.com/paultimothymooney/chest...</td>\n",
       "    </tr>\n",
       "    <tr>\n",
       "      <th>10191</th>\n",
       "      <td>NORMAL-10192</td>\n",
       "      <td>PNG</td>\n",
       "      <td>256*256</td>\n",
       "      <td>https://www.kaggle.com/paultimothymooney/chest...</td>\n",
       "    </tr>\n",
       "  </tbody>\n",
       "</table>\n",
       "<p>10192 rows × 4 columns</p>\n",
       "</div>"
      ],
      "text/plain": [
       "          FILE NAME FORMAT     SIZE  \\\n",
       "0          NORMAL-1    PNG  256*256   \n",
       "1          NORMAL-2    PNG  256*256   \n",
       "2          NORMAL-3    PNG  256*256   \n",
       "3          NORMAL-4    PNG  256*256   \n",
       "4          NORMAL-5    PNG  256*256   \n",
       "...             ...    ...      ...   \n",
       "10187  NORMAL-10188    PNG  256*256   \n",
       "10188  NORMAL-10189    PNG  256*256   \n",
       "10189  NORMAL-10190    PNG  256*256   \n",
       "10190  NORMAL-10191    PNG  256*256   \n",
       "10191  NORMAL-10192    PNG  256*256   \n",
       "\n",
       "                                                     URL  \n",
       "0      https://www.kaggle.com/c/rsna-pneumonia-detect...  \n",
       "1      https://www.kaggle.com/c/rsna-pneumonia-detect...  \n",
       "2      https://www.kaggle.com/c/rsna-pneumonia-detect...  \n",
       "3      https://www.kaggle.com/c/rsna-pneumonia-detect...  \n",
       "4      https://www.kaggle.com/c/rsna-pneumonia-detect...  \n",
       "...                                                  ...  \n",
       "10187  https://www.kaggle.com/paultimothymooney/chest...  \n",
       "10188  https://www.kaggle.com/paultimothymooney/chest...  \n",
       "10189  https://www.kaggle.com/paultimothymooney/chest...  \n",
       "10190  https://www.kaggle.com/paultimothymooney/chest...  \n",
       "10191  https://www.kaggle.com/paultimothymooney/chest...  \n",
       "\n",
       "[10192 rows x 4 columns]"
      ]
     },
     "execution_count": 28,
     "metadata": {},
     "output_type": "execute_result"
    }
   ],
   "source": [
    "dfNormal"
   ]
  },
  {
   "cell_type": "code",
   "execution_count": 29,
   "id": "a55a21eb",
   "metadata": {},
   "outputs": [
    {
     "data": {
      "text/html": [
       "<div>\n",
       "<style scoped>\n",
       "    .dataframe tbody tr th:only-of-type {\n",
       "        vertical-align: middle;\n",
       "    }\n",
       "\n",
       "    .dataframe tbody tr th {\n",
       "        vertical-align: top;\n",
       "    }\n",
       "\n",
       "    .dataframe thead th {\n",
       "        text-align: right;\n",
       "    }\n",
       "</style>\n",
       "<table border=\"1\" class=\"dataframe\">\n",
       "  <thead>\n",
       "    <tr style=\"text-align: right;\">\n",
       "      <th></th>\n",
       "      <th>FILE NAME</th>\n",
       "      <th>FORMAT</th>\n",
       "      <th>SIZE</th>\n",
       "      <th>URL</th>\n",
       "    </tr>\n",
       "  </thead>\n",
       "  <tbody>\n",
       "    <tr>\n",
       "      <th>0</th>\n",
       "      <td>COVID-1</td>\n",
       "      <td>PNG</td>\n",
       "      <td>256*256</td>\n",
       "      <td>https://sirm.org/category/senza-categoria/covi...</td>\n",
       "    </tr>\n",
       "    <tr>\n",
       "      <th>1</th>\n",
       "      <td>COVID-2</td>\n",
       "      <td>PNG</td>\n",
       "      <td>256*256</td>\n",
       "      <td>https://sirm.org/category/senza-categoria/covi...</td>\n",
       "    </tr>\n",
       "    <tr>\n",
       "      <th>2</th>\n",
       "      <td>COVID-3</td>\n",
       "      <td>PNG</td>\n",
       "      <td>256*256</td>\n",
       "      <td>https://sirm.org/category/senza-categoria/covi...</td>\n",
       "    </tr>\n",
       "    <tr>\n",
       "      <th>3</th>\n",
       "      <td>COVID-4</td>\n",
       "      <td>PNG</td>\n",
       "      <td>256*256</td>\n",
       "      <td>https://sirm.org/category/senza-categoria/covi...</td>\n",
       "    </tr>\n",
       "    <tr>\n",
       "      <th>4</th>\n",
       "      <td>COVID-5</td>\n",
       "      <td>PNG</td>\n",
       "      <td>256*256</td>\n",
       "      <td>https://sirm.org/category/senza-categoria/covi...</td>\n",
       "    </tr>\n",
       "    <tr>\n",
       "      <th>...</th>\n",
       "      <td>...</td>\n",
       "      <td>...</td>\n",
       "      <td>...</td>\n",
       "      <td>...</td>\n",
       "    </tr>\n",
       "    <tr>\n",
       "      <th>10187</th>\n",
       "      <td>NORMAL-10188</td>\n",
       "      <td>PNG</td>\n",
       "      <td>256*256</td>\n",
       "      <td>https://www.kaggle.com/paultimothymooney/chest...</td>\n",
       "    </tr>\n",
       "    <tr>\n",
       "      <th>10188</th>\n",
       "      <td>NORMAL-10189</td>\n",
       "      <td>PNG</td>\n",
       "      <td>256*256</td>\n",
       "      <td>https://www.kaggle.com/paultimothymooney/chest...</td>\n",
       "    </tr>\n",
       "    <tr>\n",
       "      <th>10189</th>\n",
       "      <td>NORMAL-10190</td>\n",
       "      <td>PNG</td>\n",
       "      <td>256*256</td>\n",
       "      <td>https://www.kaggle.com/paultimothymooney/chest...</td>\n",
       "    </tr>\n",
       "    <tr>\n",
       "      <th>10190</th>\n",
       "      <td>NORMAL-10191</td>\n",
       "      <td>PNG</td>\n",
       "      <td>256*256</td>\n",
       "      <td>https://www.kaggle.com/paultimothymooney/chest...</td>\n",
       "    </tr>\n",
       "    <tr>\n",
       "      <th>10191</th>\n",
       "      <td>NORMAL-10192</td>\n",
       "      <td>PNG</td>\n",
       "      <td>256*256</td>\n",
       "      <td>https://www.kaggle.com/paultimothymooney/chest...</td>\n",
       "    </tr>\n",
       "  </tbody>\n",
       "</table>\n",
       "<p>13808 rows × 4 columns</p>\n",
       "</div>"
      ],
      "text/plain": [
       "          FILE NAME FORMAT     SIZE  \\\n",
       "0           COVID-1    PNG  256*256   \n",
       "1           COVID-2    PNG  256*256   \n",
       "2           COVID-3    PNG  256*256   \n",
       "3           COVID-4    PNG  256*256   \n",
       "4           COVID-5    PNG  256*256   \n",
       "...             ...    ...      ...   \n",
       "10187  NORMAL-10188    PNG  256*256   \n",
       "10188  NORMAL-10189    PNG  256*256   \n",
       "10189  NORMAL-10190    PNG  256*256   \n",
       "10190  NORMAL-10191    PNG  256*256   \n",
       "10191  NORMAL-10192    PNG  256*256   \n",
       "\n",
       "                                                     URL  \n",
       "0      https://sirm.org/category/senza-categoria/covi...  \n",
       "1      https://sirm.org/category/senza-categoria/covi...  \n",
       "2      https://sirm.org/category/senza-categoria/covi...  \n",
       "3      https://sirm.org/category/senza-categoria/covi...  \n",
       "4      https://sirm.org/category/senza-categoria/covi...  \n",
       "...                                                  ...  \n",
       "10187  https://www.kaggle.com/paultimothymooney/chest...  \n",
       "10188  https://www.kaggle.com/paultimothymooney/chest...  \n",
       "10189  https://www.kaggle.com/paultimothymooney/chest...  \n",
       "10190  https://www.kaggle.com/paultimothymooney/chest...  \n",
       "10191  https://www.kaggle.com/paultimothymooney/chest...  \n",
       "\n",
       "[13808 rows x 4 columns]"
      ]
     },
     "execution_count": 29,
     "metadata": {},
     "output_type": "execute_result"
    }
   ],
   "source": [
    "df = pd.concat([dfCovid,dfNormal])\n",
    "df"
   ]
  },
  {
   "cell_type": "markdown",
   "id": "329f8382",
   "metadata": {},
   "source": [
    "##### เช็คชื่อ file name มีซำ้หรือไม่, columnต่างๆ"
   ]
  },
  {
   "cell_type": "code",
   "execution_count": 30,
   "id": "8e1f4eab",
   "metadata": {},
   "outputs": [
    {
     "data": {
      "text/plain": [
       "13808"
      ]
     },
     "execution_count": 30,
     "metadata": {},
     "output_type": "execute_result"
    }
   ],
   "source": [
    "len(df['FILE NAME'].unique())"
   ]
  },
  {
   "cell_type": "code",
   "execution_count": 31,
   "id": "62bf327a",
   "metadata": {},
   "outputs": [
    {
     "data": {
      "text/plain": [
       "array(['PNG'], dtype=object)"
      ]
     },
     "execution_count": 31,
     "metadata": {},
     "output_type": "execute_result"
    }
   ],
   "source": [
    "df.FORMAT.unique()"
   ]
  },
  {
   "cell_type": "markdown",
   "id": "abb71bf6",
   "metadata": {},
   "source": [
    "ภาพมีนามสกุลเดียว คือ PNG"
   ]
  },
  {
   "cell_type": "code",
   "execution_count": 32,
   "id": "bd8ae0f5",
   "metadata": {},
   "outputs": [
    {
     "data": {
      "text/plain": [
       "array(['256*256'], dtype=object)"
      ]
     },
     "execution_count": 32,
     "metadata": {},
     "output_type": "execute_result"
    }
   ],
   "source": [
    "df.SIZE.unique()"
   ]
  },
  {
   "cell_type": "markdown",
   "id": "c7d2ee53",
   "metadata": {},
   "source": [
    "ภาพมีขนาดเท่ากันหมด"
   ]
  },
  {
   "cell_type": "markdown",
   "id": "bbe31b95",
   "metadata": {},
   "source": [
    "ภาพ xray มีขนาด 299\\*299 [256\\*256 เป็นขนาดของ mask image]"
   ]
  },
  {
   "cell_type": "code",
   "execution_count": 33,
   "id": "81b8a9cf",
   "metadata": {},
   "outputs": [
    {
     "name": "stdout",
     "output_type": "stream",
     "text": [
      "\u001b[34mCOVID-19_Dataset\u001b[m\u001b[m/ archive.zip       csproj.ipynb\r\n"
     ]
    }
   ],
   "source": [
    "ls"
   ]
  },
  {
   "cell_type": "code",
   "execution_count": 43,
   "id": "85b3ae11",
   "metadata": {},
   "outputs": [],
   "source": [
    "DIR_NORMAL = './COVID-19_Dataset/Normal/images/'\n",
    "DIR_COVID = './COVID-19_Dataset/COVID/images/'"
   ]
  },
  {
   "cell_type": "code",
   "execution_count": 42,
   "id": "568e2cfd",
   "metadata": {},
   "outputs": [
    {
     "name": "stdout",
     "output_type": "stream",
     "text": [
      "File Name:\n",
      "./COVID-19_Dataset/Normal/images/Normal-2123.png\n",
      "./COVID-19_Dataset/Normal/images/Normal-1238.png\n",
      "./COVID-19_Dataset/Normal/images/Normal-1239.png\n",
      "./COVID-19_Dataset/Normal/images/Normal-6123.png\n",
      "./COVID-19_Dataset/Normal/images/Normal-4123.png\n",
      "./COVID-19_Dataset/Normal/images/Normal-8123.png\n",
      "./COVID-19_Dataset/Normal/images/Normal-1123.png\n",
      "./COVID-19_Dataset/Normal/images/Normal-3123.png\n",
      "./COVID-19_Dataset/Normal/images/Normal-123.png\n",
      "./COVID-19_Dataset/Normal/images/Normal-1237.png\n",
      "./COVID-19_Dataset/Normal/images/Normal-1236.png\n",
      "./COVID-19_Dataset/Normal/images/Normal-7123.png\n",
      "./COVID-19_Dataset/Normal/images/Normal-1234.png\n",
      "./COVID-19_Dataset/Normal/images/Normal-1235.png\n",
      "./COVID-19_Dataset/Normal/images/Normal-5123.png\n",
      "./COVID-19_Dataset/Normal/images/Normal-1231.png\n",
      "./COVID-19_Dataset/Normal/images/Normal-9123.png\n",
      "./COVID-19_Dataset/Normal/images/Normal-10123.png\n",
      "./COVID-19_Dataset/Normal/images/Normal-1230.png\n",
      "./COVID-19_Dataset/Normal/images/Normal-1232.png\n",
      "./COVID-19_Dataset/Normal/images/Normal-1233.png\n"
     ]
    }
   ],
   "source": [
    "import glob\n",
    "  \n",
    "print('File Name:')\n",
    "for name in glob.glob('./COVID-19_Dataset/Normal/images/*123*'):\n",
    "    print(name)"
   ]
  },
  {
   "cell_type": "code",
   "execution_count": 55,
   "id": "d4fd6b1a",
   "metadata": {},
   "outputs": [
    {
     "name": "stdout",
     "output_type": "stream",
     "text": [
      "(299, 299)\n"
     ]
    }
   ],
   "source": [
    "# importing required libraries\n",
    "import matplotlib.pyplot as plt\n",
    "import matplotlib.image as img\n",
    "  \n",
    "# reading the image\n",
    "testImage = img.imread(DIR_NORMAL+'Normal-23.png')\n",
    "  \n",
    "# displaying the shape of the image\n",
    "print(testImage.shape)"
   ]
  },
  {
   "cell_type": "code",
   "execution_count": 51,
   "id": "800e0409",
   "metadata": {},
   "outputs": [
    {
     "data": {
      "text/plain": [
       "<matplotlib.image.AxesImage at 0x7fcd9b4f5250>"
      ]
     },
     "execution_count": 51,
     "metadata": {},
     "output_type": "execute_result"
    },
    {
     "data": {
      "image/png": "[encoded data removed]",
      "text/plain": [
       "<Figure size 432x288 with 1 Axes>"
      ]
     },
     "metadata": {
      "needs_background": "light"
     },
     "output_type": "display_data"
    }
   ],
   "source": [
    "plt.imshow(testImage)"
   ]
  },
  {
   "cell_type": "markdown",
   "id": "61c584a1",
   "metadata": {},
   "source": [
    "##### เช็คขนาดรูป"
   ]
  },
  {
   "cell_type": "code",
   "execution_count": 60,
   "id": "aac495b8",
   "metadata": {},
   "outputs": [
    {
     "name": "stdout",
     "output_type": "stream",
     "text": [
      "10192\n"
     ]
    }
   ],
   "source": [
    "count = 0\n",
    "for name in glob.glob('./COVID-19_Dataset/Normal/images/*'):\n",
    "    testImage = img.imread(name)\n",
    "    if testImage.shape != (299, 299) :\n",
    "        print(name)\n",
    "    count = count+1\n",
    "print(count)"
   ]
  },
  {
   "cell_type": "code",
   "execution_count": 61,
   "id": "a4f2fd8e",
   "metadata": {},
   "outputs": [
    {
     "name": "stdout",
     "output_type": "stream",
     "text": [
      "3616\n"
     ]
    }
   ],
   "source": [
    "count = 0\n",
    "for name in glob.glob('./COVID-19_Dataset/COVID/images/*'):\n",
    "    testImage = img.imread(name)\n",
    "    if testImage.shape != (299, 299) :\n",
    "        print(name)\n",
    "    count = count+1\n",
    "print(count)"
   ]
  },
  {
   "cell_type": "code",
   "execution_count": null,
   "id": "bf22955f",
   "metadata": {},
   "outputs": [],
   "source": []
  },
  {
   "cell_type": "code",
   "execution_count": null,
   "id": "1891664c",
   "metadata": {},
   "outputs": [],
   "source": []
  }
 ],
 "metadata": {
  "kernelspec": {
   "display_name": "Python 3",
   "language": "python",
   "name": "python3"
  },
  "language_info": {
   "codemirror_mode": {
    "name": "ipython",
    "version": 3
   },
   "file_extension": ".py",
   "mimetype": "text/x-python",
   "name": "python",
   "nbconvert_exporter": "python",
   "pygments_lexer": "ipython3",
   "version": "3.8.8"
  }
 },
 "nbformat": 4,
 "nbformat_minor": 5
}
